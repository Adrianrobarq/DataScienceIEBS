{
 "cells": [
  {
   "cell_type": "markdown",
   "id": "bce87470-f737-4c0b-b833-0caecd9dc6a0",
   "metadata": {},
   "source": [
    "Título\n",
    "-------------\n",
    "-------------\n",
    "\n",
    "\n",
    "Esta es una celda de texto\n",
    "De forma que puedo escribir sin que se ejecute ningún código\n"
   ]
  },
  {
   "cell_type": "code",
   "execution_count": 3,
   "id": "83729600-b5ec-49da-845d-9cb1f43a9aa1",
   "metadata": {},
   "outputs": [
    {
     "name": "stdout",
     "output_type": "stream",
     "text": [
      "Testeo de código\n"
     ]
    }
   ],
   "source": [
    "print('Testeo de código')"
   ]
  },
  {
   "cell_type": "code",
   "execution_count": null,
   "id": "6ce8613a-9e1b-48ce-8953-1fd37b3ab34a",
   "metadata": {},
   "outputs": [],
   "source": []
  }
 ],
 "metadata": {
  "kernelspec": {
   "display_name": "Python 3 (ipykernel)",
   "language": "python",
   "name": "python3"
  },
  "language_info": {
   "codemirror_mode": {
    "name": "ipython",
    "version": 3
   },
   "file_extension": ".py",
   "mimetype": "text/x-python",
   "name": "python",
   "nbconvert_exporter": "python",
   "pygments_lexer": "ipython3",
   "version": "3.11.8"
  }
 },
 "nbformat": 4,
 "nbformat_minor": 5
}
