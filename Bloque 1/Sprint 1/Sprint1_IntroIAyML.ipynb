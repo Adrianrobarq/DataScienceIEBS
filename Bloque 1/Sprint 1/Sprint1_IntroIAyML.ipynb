{
  "nbformat": 4,
  "nbformat_minor": 0,
  "metadata": {
    "colab": {
      "provenance": []
    },
    "kernelspec": {
      "name": "python3",
      "display_name": "Python 3"
    },
    "language_info": {
      "name": "python"
    }
  },
  "cells": [
    {
      "cell_type": "markdown",
      "source": [
        "# Introducción a ML e IA, 1er Sprint\n",
        "Este es el primer Sprint del módulo de introducción al Machine Learning e Inteligencia artificial del Master en Data Science de IEBSchool.\n",
        "\n",
        "Primero vamos a importar las librerías que podríamos necesitar para operar en machine learning"
      ],
      "metadata": {
        "id": "0maWSjvBe9uJ"
      }
    },
    {
      "cell_type": "code",
      "execution_count": 4,
      "metadata": {
        "id": "2Kc8XReSe1WK"
      },
      "outputs": [],
      "source": [
        "import pandas as pd"
      ]
    },
    {
      "cell_type": "markdown",
      "source": [
        "A continuación vamos a cargar un dataset desde local al archivo de Colab"
      ],
      "metadata": {
        "id": "CKF4u04k4V3x"
      }
    },
    {
      "cell_type": "code",
      "source": [
        "from google.colab import files\n",
        "import io\n",
        "\n",
        "uploaded = files.upload()\n",
        "data = pd.read_csv(io.BytesIO(uploaded['insurance.csv']))"
      ],
      "metadata": {
        "colab": {
          "base_uri": "https://localhost:8080/",
          "height": 75
        },
        "id": "QW1vlD_a3uxr",
        "outputId": "badc122b-27f6-4f60-ee44-4215164a57bb"
      },
      "execution_count": 2,
      "outputs": [
        {
          "output_type": "display_data",
          "data": {
            "text/plain": [
              "<IPython.core.display.HTML object>"
            ],
            "text/html": [
              "\n",
              "     <input type=\"file\" id=\"files-657c0ce1-11ad-4fed-97a3-d299a0785e69\" name=\"files[]\" multiple disabled\n",
              "        style=\"border:none\" />\n",
              "     <output id=\"result-657c0ce1-11ad-4fed-97a3-d299a0785e69\">\n",
              "      Upload widget is only available when the cell has been executed in the\n",
              "      current browser session. Please rerun this cell to enable.\n",
              "      </output>\n",
              "      <script>// Copyright 2017 Google LLC\n",
              "//\n",
              "// Licensed under the Apache License, Version 2.0 (the \"License\");\n",
              "// you may not use this file except in compliance with the License.\n",
              "// You may obtain a copy of the License at\n",
              "//\n",
              "//      http://www.apache.org/licenses/LICENSE-2.0\n",
              "//\n",
              "// Unless required by applicable law or agreed to in writing, software\n",
              "// distributed under the License is distributed on an \"AS IS\" BASIS,\n",
              "// WITHOUT WARRANTIES OR CONDITIONS OF ANY KIND, either express or implied.\n",
              "// See the License for the specific language governing permissions and\n",
              "// limitations under the License.\n",
              "\n",
              "/**\n",
              " * @fileoverview Helpers for google.colab Python module.\n",
              " */\n",
              "(function(scope) {\n",
              "function span(text, styleAttributes = {}) {\n",
              "  const element = document.createElement('span');\n",
              "  element.textContent = text;\n",
              "  for (const key of Object.keys(styleAttributes)) {\n",
              "    element.style[key] = styleAttributes[key];\n",
              "  }\n",
              "  return element;\n",
              "}\n",
              "\n",
              "// Max number of bytes which will be uploaded at a time.\n",
              "const MAX_PAYLOAD_SIZE = 100 * 1024;\n",
              "\n",
              "function _uploadFiles(inputId, outputId) {\n",
              "  const steps = uploadFilesStep(inputId, outputId);\n",
              "  const outputElement = document.getElementById(outputId);\n",
              "  // Cache steps on the outputElement to make it available for the next call\n",
              "  // to uploadFilesContinue from Python.\n",
              "  outputElement.steps = steps;\n",
              "\n",
              "  return _uploadFilesContinue(outputId);\n",
              "}\n",
              "\n",
              "// This is roughly an async generator (not supported in the browser yet),\n",
              "// where there are multiple asynchronous steps and the Python side is going\n",
              "// to poll for completion of each step.\n",
              "// This uses a Promise to block the python side on completion of each step,\n",
              "// then passes the result of the previous step as the input to the next step.\n",
              "function _uploadFilesContinue(outputId) {\n",
              "  const outputElement = document.getElementById(outputId);\n",
              "  const steps = outputElement.steps;\n",
              "\n",
              "  const next = steps.next(outputElement.lastPromiseValue);\n",
              "  return Promise.resolve(next.value.promise).then((value) => {\n",
              "    // Cache the last promise value to make it available to the next\n",
              "    // step of the generator.\n",
              "    outputElement.lastPromiseValue = value;\n",
              "    return next.value.response;\n",
              "  });\n",
              "}\n",
              "\n",
              "/**\n",
              " * Generator function which is called between each async step of the upload\n",
              " * process.\n",
              " * @param {string} inputId Element ID of the input file picker element.\n",
              " * @param {string} outputId Element ID of the output display.\n",
              " * @return {!Iterable<!Object>} Iterable of next steps.\n",
              " */\n",
              "function* uploadFilesStep(inputId, outputId) {\n",
              "  const inputElement = document.getElementById(inputId);\n",
              "  inputElement.disabled = false;\n",
              "\n",
              "  const outputElement = document.getElementById(outputId);\n",
              "  outputElement.innerHTML = '';\n",
              "\n",
              "  const pickedPromise = new Promise((resolve) => {\n",
              "    inputElement.addEventListener('change', (e) => {\n",
              "      resolve(e.target.files);\n",
              "    });\n",
              "  });\n",
              "\n",
              "  const cancel = document.createElement('button');\n",
              "  inputElement.parentElement.appendChild(cancel);\n",
              "  cancel.textContent = 'Cancel upload';\n",
              "  const cancelPromise = new Promise((resolve) => {\n",
              "    cancel.onclick = () => {\n",
              "      resolve(null);\n",
              "    };\n",
              "  });\n",
              "\n",
              "  // Wait for the user to pick the files.\n",
              "  const files = yield {\n",
              "    promise: Promise.race([pickedPromise, cancelPromise]),\n",
              "    response: {\n",
              "      action: 'starting',\n",
              "    }\n",
              "  };\n",
              "\n",
              "  cancel.remove();\n",
              "\n",
              "  // Disable the input element since further picks are not allowed.\n",
              "  inputElement.disabled = true;\n",
              "\n",
              "  if (!files) {\n",
              "    return {\n",
              "      response: {\n",
              "        action: 'complete',\n",
              "      }\n",
              "    };\n",
              "  }\n",
              "\n",
              "  for (const file of files) {\n",
              "    const li = document.createElement('li');\n",
              "    li.append(span(file.name, {fontWeight: 'bold'}));\n",
              "    li.append(span(\n",
              "        `(${file.type || 'n/a'}) - ${file.size} bytes, ` +\n",
              "        `last modified: ${\n",
              "            file.lastModifiedDate ? file.lastModifiedDate.toLocaleDateString() :\n",
              "                                    'n/a'} - `));\n",
              "    const percent = span('0% done');\n",
              "    li.appendChild(percent);\n",
              "\n",
              "    outputElement.appendChild(li);\n",
              "\n",
              "    const fileDataPromise = new Promise((resolve) => {\n",
              "      const reader = new FileReader();\n",
              "      reader.onload = (e) => {\n",
              "        resolve(e.target.result);\n",
              "      };\n",
              "      reader.readAsArrayBuffer(file);\n",
              "    });\n",
              "    // Wait for the data to be ready.\n",
              "    let fileData = yield {\n",
              "      promise: fileDataPromise,\n",
              "      response: {\n",
              "        action: 'continue',\n",
              "      }\n",
              "    };\n",
              "\n",
              "    // Use a chunked sending to avoid message size limits. See b/62115660.\n",
              "    let position = 0;\n",
              "    do {\n",
              "      const length = Math.min(fileData.byteLength - position, MAX_PAYLOAD_SIZE);\n",
              "      const chunk = new Uint8Array(fileData, position, length);\n",
              "      position += length;\n",
              "\n",
              "      const base64 = btoa(String.fromCharCode.apply(null, chunk));\n",
              "      yield {\n",
              "        response: {\n",
              "          action: 'append',\n",
              "          file: file.name,\n",
              "          data: base64,\n",
              "        },\n",
              "      };\n",
              "\n",
              "      let percentDone = fileData.byteLength === 0 ?\n",
              "          100 :\n",
              "          Math.round((position / fileData.byteLength) * 100);\n",
              "      percent.textContent = `${percentDone}% done`;\n",
              "\n",
              "    } while (position < fileData.byteLength);\n",
              "  }\n",
              "\n",
              "  // All done.\n",
              "  yield {\n",
              "    response: {\n",
              "      action: 'complete',\n",
              "    }\n",
              "  };\n",
              "}\n",
              "\n",
              "scope.google = scope.google || {};\n",
              "scope.google.colab = scope.google.colab || {};\n",
              "scope.google.colab._files = {\n",
              "  _uploadFiles,\n",
              "  _uploadFilesContinue,\n",
              "};\n",
              "})(self);\n",
              "</script> "
            ]
          },
          "metadata": {}
        },
        {
          "output_type": "stream",
          "name": "stdout",
          "text": [
            "Saving insurance.csv to insurance.csv\n"
          ]
        }
      ]
    },
    {
      "cell_type": "markdown",
      "source": [
        "Vamos en este caso a incorporar el dataset desde el propio Google Drive tal y como hemos visto en el curso."
      ],
      "metadata": {
        "id": "hqUwUwY4-aa4"
      }
    },
    {
      "cell_type": "code",
      "source": [
        "!pip install -U -q PyDrive\n",
        "from pydrive.auth import GoogleAuth\n",
        "from pydrive.drive import GoogleDrive\n",
        "from google.colab import auth\n",
        "from oauth2client.client import GoogleCredentials\n",
        "\n",
        "# Creación del cliente de google y nos logeamos\n",
        "auth.authenticate_user()\n",
        "gauth = GoogleAuth()\n",
        "gauth.credentials = GoogleCredentials.get_application_default()\n",
        "drive = GoogleDrive(gauth)\n"
      ],
      "metadata": {
        "colab": {
          "base_uri": "https://localhost:8080/"
        },
        "id": "G0RTOMxq-hON",
        "outputId": "070c7431-511a-4142-f883-e962813fea8b"
      },
      "execution_count": 37,
      "outputs": [
        {
          "output_type": "stream",
          "name": "stdout",
          "text": [
            "1BECsx0d0Fi1m_eypvRWZehQePrZFaL7J\n",
            "   age     sex     bmi  children smoker     region      charges\n",
            "0   19  female  27.900         0    yes  southwest  16884.92400\n",
            "1   18    male  33.770         1     no  southeast   1725.55230\n",
            "2   28    male  33.000         3     no  southeast   4449.46200\n",
            "3   33    male  22.705         0     no  northwest  21984.47061\n",
            "4   32    male  28.880         0     no  northwest   3866.85520\n"
          ]
        }
      ]
    },
    {
      "cell_type": "markdown",
      "source": [
        "Una vez autenticados en Google, localizamos el archivo, lo descargamos y lo leemos en pandas."
      ],
      "metadata": {
        "id": "Icum5KNlFEEZ"
      }
    },
    {
      "cell_type": "code",
      "source": [
        "#Link al csv\n",
        "link = 'https://drive.google.com/file/d/1BECsx0d0Fi1m_eypvRWZehQePrZFaL7J'\n",
        "\n",
        "#Separamos el id del docuemto de Google docs\n",
        "id = link.split('/')[-1]\n",
        "print(id)\n",
        "\n",
        "#Descargamos el fichero\n",
        "dowloaded = drive.CreateFile({'id': id})\n",
        "dowloaded.GetContentFile('insurance.csv') #Es el nombre del fichero\n",
        "\n",
        "#leemos los datos y los cargamos en pandas\n",
        "data = pd.read_csv('insurance.csv')\n",
        "print(data.head())"
      ],
      "metadata": {
        "id": "bcesIeRVFDMx"
      },
      "execution_count": null,
      "outputs": []
    },
    {
      "cell_type": "markdown",
      "source": [
        "Como tercera opción, vamos a importar directamente el Dataset desde Kaggle."
      ],
      "metadata": {
        "id": "J8ZHoTYRC2vP"
      }
    },
    {
      "cell_type": "code",
      "source": [
        "from google.colab import files\n",
        "!pip install -q kaggle\n",
        "files.upload()\n",
        "!mkdir -p ~/.kaggle\n",
        "!cp kaggle.json ~/.kaggle/\n",
        "!chmod 600 ~/.kaggle/kaggle.json\n"
      ],
      "metadata": {
        "colab": {
          "base_uri": "https://localhost:8080/",
          "height": 215
        },
        "id": "0plLdyjcC8JF",
        "outputId": "e9554b7f-ab7a-4f60-e7f6-239fa2dfba58"
      },
      "execution_count": 39,
      "outputs": [
        {
          "output_type": "display_data",
          "data": {
            "text/plain": [
              "<IPython.core.display.HTML object>"
            ],
            "text/html": [
              "\n",
              "     <input type=\"file\" id=\"files-56d86cac-cc75-4b86-89dd-fdc8c8a499e2\" name=\"files[]\" multiple disabled\n",
              "        style=\"border:none\" />\n",
              "     <output id=\"result-56d86cac-cc75-4b86-89dd-fdc8c8a499e2\">\n",
              "      Upload widget is only available when the cell has been executed in the\n",
              "      current browser session. Please rerun this cell to enable.\n",
              "      </output>\n",
              "      <script>// Copyright 2017 Google LLC\n",
              "//\n",
              "// Licensed under the Apache License, Version 2.0 (the \"License\");\n",
              "// you may not use this file except in compliance with the License.\n",
              "// You may obtain a copy of the License at\n",
              "//\n",
              "//      http://www.apache.org/licenses/LICENSE-2.0\n",
              "//\n",
              "// Unless required by applicable law or agreed to in writing, software\n",
              "// distributed under the License is distributed on an \"AS IS\" BASIS,\n",
              "// WITHOUT WARRANTIES OR CONDITIONS OF ANY KIND, either express or implied.\n",
              "// See the License for the specific language governing permissions and\n",
              "// limitations under the License.\n",
              "\n",
              "/**\n",
              " * @fileoverview Helpers for google.colab Python module.\n",
              " */\n",
              "(function(scope) {\n",
              "function span(text, styleAttributes = {}) {\n",
              "  const element = document.createElement('span');\n",
              "  element.textContent = text;\n",
              "  for (const key of Object.keys(styleAttributes)) {\n",
              "    element.style[key] = styleAttributes[key];\n",
              "  }\n",
              "  return element;\n",
              "}\n",
              "\n",
              "// Max number of bytes which will be uploaded at a time.\n",
              "const MAX_PAYLOAD_SIZE = 100 * 1024;\n",
              "\n",
              "function _uploadFiles(inputId, outputId) {\n",
              "  const steps = uploadFilesStep(inputId, outputId);\n",
              "  const outputElement = document.getElementById(outputId);\n",
              "  // Cache steps on the outputElement to make it available for the next call\n",
              "  // to uploadFilesContinue from Python.\n",
              "  outputElement.steps = steps;\n",
              "\n",
              "  return _uploadFilesContinue(outputId);\n",
              "}\n",
              "\n",
              "// This is roughly an async generator (not supported in the browser yet),\n",
              "// where there are multiple asynchronous steps and the Python side is going\n",
              "// to poll for completion of each step.\n",
              "// This uses a Promise to block the python side on completion of each step,\n",
              "// then passes the result of the previous step as the input to the next step.\n",
              "function _uploadFilesContinue(outputId) {\n",
              "  const outputElement = document.getElementById(outputId);\n",
              "  const steps = outputElement.steps;\n",
              "\n",
              "  const next = steps.next(outputElement.lastPromiseValue);\n",
              "  return Promise.resolve(next.value.promise).then((value) => {\n",
              "    // Cache the last promise value to make it available to the next\n",
              "    // step of the generator.\n",
              "    outputElement.lastPromiseValue = value;\n",
              "    return next.value.response;\n",
              "  });\n",
              "}\n",
              "\n",
              "/**\n",
              " * Generator function which is called between each async step of the upload\n",
              " * process.\n",
              " * @param {string} inputId Element ID of the input file picker element.\n",
              " * @param {string} outputId Element ID of the output display.\n",
              " * @return {!Iterable<!Object>} Iterable of next steps.\n",
              " */\n",
              "function* uploadFilesStep(inputId, outputId) {\n",
              "  const inputElement = document.getElementById(inputId);\n",
              "  inputElement.disabled = false;\n",
              "\n",
              "  const outputElement = document.getElementById(outputId);\n",
              "  outputElement.innerHTML = '';\n",
              "\n",
              "  const pickedPromise = new Promise((resolve) => {\n",
              "    inputElement.addEventListener('change', (e) => {\n",
              "      resolve(e.target.files);\n",
              "    });\n",
              "  });\n",
              "\n",
              "  const cancel = document.createElement('button');\n",
              "  inputElement.parentElement.appendChild(cancel);\n",
              "  cancel.textContent = 'Cancel upload';\n",
              "  const cancelPromise = new Promise((resolve) => {\n",
              "    cancel.onclick = () => {\n",
              "      resolve(null);\n",
              "    };\n",
              "  });\n",
              "\n",
              "  // Wait for the user to pick the files.\n",
              "  const files = yield {\n",
              "    promise: Promise.race([pickedPromise, cancelPromise]),\n",
              "    response: {\n",
              "      action: 'starting',\n",
              "    }\n",
              "  };\n",
              "\n",
              "  cancel.remove();\n",
              "\n",
              "  // Disable the input element since further picks are not allowed.\n",
              "  inputElement.disabled = true;\n",
              "\n",
              "  if (!files) {\n",
              "    return {\n",
              "      response: {\n",
              "        action: 'complete',\n",
              "      }\n",
              "    };\n",
              "  }\n",
              "\n",
              "  for (const file of files) {\n",
              "    const li = document.createElement('li');\n",
              "    li.append(span(file.name, {fontWeight: 'bold'}));\n",
              "    li.append(span(\n",
              "        `(${file.type || 'n/a'}) - ${file.size} bytes, ` +\n",
              "        `last modified: ${\n",
              "            file.lastModifiedDate ? file.lastModifiedDate.toLocaleDateString() :\n",
              "                                    'n/a'} - `));\n",
              "    const percent = span('0% done');\n",
              "    li.appendChild(percent);\n",
              "\n",
              "    outputElement.appendChild(li);\n",
              "\n",
              "    const fileDataPromise = new Promise((resolve) => {\n",
              "      const reader = new FileReader();\n",
              "      reader.onload = (e) => {\n",
              "        resolve(e.target.result);\n",
              "      };\n",
              "      reader.readAsArrayBuffer(file);\n",
              "    });\n",
              "    // Wait for the data to be ready.\n",
              "    let fileData = yield {\n",
              "      promise: fileDataPromise,\n",
              "      response: {\n",
              "        action: 'continue',\n",
              "      }\n",
              "    };\n",
              "\n",
              "    // Use a chunked sending to avoid message size limits. See b/62115660.\n",
              "    let position = 0;\n",
              "    do {\n",
              "      const length = Math.min(fileData.byteLength - position, MAX_PAYLOAD_SIZE);\n",
              "      const chunk = new Uint8Array(fileData, position, length);\n",
              "      position += length;\n",
              "\n",
              "      const base64 = btoa(String.fromCharCode.apply(null, chunk));\n",
              "      yield {\n",
              "        response: {\n",
              "          action: 'append',\n",
              "          file: file.name,\n",
              "          data: base64,\n",
              "        },\n",
              "      };\n",
              "\n",
              "      let percentDone = fileData.byteLength === 0 ?\n",
              "          100 :\n",
              "          Math.round((position / fileData.byteLength) * 100);\n",
              "      percent.textContent = `${percentDone}% done`;\n",
              "\n",
              "    } while (position < fileData.byteLength);\n",
              "  }\n",
              "\n",
              "  // All done.\n",
              "  yield {\n",
              "    response: {\n",
              "      action: 'complete',\n",
              "    }\n",
              "  };\n",
              "}\n",
              "\n",
              "scope.google = scope.google || {};\n",
              "scope.google.colab = scope.google.colab || {};\n",
              "scope.google.colab._files = {\n",
              "  _uploadFiles,\n",
              "  _uploadFilesContinue,\n",
              "};\n",
              "})(self);\n",
              "</script> "
            ]
          },
          "metadata": {}
        },
        {
          "output_type": "stream",
          "name": "stdout",
          "text": [
            "Saving kaggle.json to kaggle (1).json\n",
            "Dataset URL: https://www.kaggle.com/datasets/mirichoi0218/insurance\n",
            "License(s): DbCL-1.0\n",
            "Downloading insurance.zip to /content\n",
            "  0% 0.00/16.0k [00:00<?, ?B/s]\n",
            "100% 16.0k/16.0k [00:00<00:00, 22.2MB/s]\n",
            "Archive:  insurance.zip\n",
            "replace insurance.csv? [y]es, [n]o, [A]ll, [N]one, [r]ename: y\n",
            "  inflating: insurance.csv           \n"
          ]
        }
      ]
    },
    {
      "cell_type": "markdown",
      "source": [
        "Una vez hemos conectado con kaggle, descargamos el archivo deseado y lo cargamos."
      ],
      "metadata": {
        "id": "OXHetPr4Et3B"
      }
    },
    {
      "cell_type": "code",
      "source": [
        "!kaggle datasets download -d mirichoi0218/insurance\n",
        "!unzip insurance.zip\n",
        "\n",
        "data = pd.read_csv('./insurance.csv')\n",
        "\n",
        "print(data.head())"
      ],
      "metadata": {
        "colab": {
          "base_uri": "https://localhost:8080/"
        },
        "id": "_gVG_jz4EsCN",
        "outputId": "de4354d5-d9fc-402b-e720-5614ccf7ff9e"
      },
      "execution_count": 41,
      "outputs": [
        {
          "output_type": "stream",
          "name": "stdout",
          "text": [
            "Dataset URL: https://www.kaggle.com/datasets/mirichoi0218/insurance\n",
            "License(s): DbCL-1.0\n",
            "insurance.zip: Skipping, found more recently modified local copy (use --force to force download)\n",
            "Archive:  insurance.zip\n",
            "replace insurance.csv? [y]es, [n]o, [A]ll, [N]one, [r]ename:    age     sex     bmi  children smoker     region      charges\n",
            "0   19  female  27.900         0    yes  southwest  16884.92400\n",
            "1   18    male  33.770         1     no  southeast   1725.55230\n",
            "2   28    male  33.000         3     no  southeast   4449.46200\n",
            "3   33    male  22.705         0     no  northwest  21984.47061\n",
            "4   32    male  28.880         0     no  northwest   3866.85520\n"
          ]
        }
      ]
    },
    {
      "cell_type": "markdown",
      "source": [
        "A continuación vamos a convertir el formato de datos a pandas para visualizarlo y vamos a realizar una primera exploración. Comprobaremos si tiene valores nulos, así como algunas variables estadísticas."
      ],
      "metadata": {
        "id": "WPeuPyrp4cG2"
      }
    },
    {
      "cell_type": "code",
      "source": [
        "print(data.dtypes)\n",
        "\n",
        "print('----------------------------------')\n",
        "\n",
        "print(data.head())\n",
        "\n",
        "print('----------------------------------')\n",
        "\n",
        "print(data.tail())\n",
        "\n",
        "print('----------------------------------')\n",
        "\n",
        "print(data.sample(5))\n",
        "\n",
        "print('----------------------------------')\n",
        "\n",
        "print(data.describe())\n",
        "\n",
        "print('----------------------------------')\n",
        "\n",
        "print('la tabla tiene {0} filas y {1} columnas'.format(data.shape[0],\n",
        "                                                       data.shape[1]))\n",
        "print('----------------------------------')\n",
        "\n",
        "print(data.info())\n",
        "\n",
        "print('----------------------------------')\n",
        "\n",
        "print(data.isnull())\n",
        "\n",
        "print('----------------------------------')\n"
      ],
      "metadata": {
        "colab": {
          "base_uri": "https://localhost:8080/"
        },
        "id": "Fl1Ngyem4cs7",
        "outputId": "25edac8a-b4c0-44d3-afaa-4645ab591655"
      },
      "execution_count": 46,
      "outputs": [
        {
          "output_type": "stream",
          "name": "stdout",
          "text": [
            "age           int64\n",
            "sex          object\n",
            "bmi         float64\n",
            "children      int64\n",
            "smoker       object\n",
            "region       object\n",
            "charges     float64\n",
            "dtype: object\n",
            "----------------------------------\n",
            "   age     sex     bmi  children smoker     region      charges\n",
            "0   19  female  27.900         0    yes  southwest  16884.92400\n",
            "1   18    male  33.770         1     no  southeast   1725.55230\n",
            "2   28    male  33.000         3     no  southeast   4449.46200\n",
            "3   33    male  22.705         0     no  northwest  21984.47061\n",
            "4   32    male  28.880         0     no  northwest   3866.85520\n",
            "----------------------------------\n",
            "      age     sex    bmi  children smoker     region     charges\n",
            "1333   50    male  30.97         3     no  northwest  10600.5483\n",
            "1334   18  female  31.92         0     no  northeast   2205.9808\n",
            "1335   18  female  36.85         0     no  southeast   1629.8335\n",
            "1336   21  female  25.80         0     no  southwest   2007.9450\n",
            "1337   61  female  29.07         0    yes  northwest  29141.3603\n",
            "----------------------------------\n",
            "      age     sex     bmi  children smoker     region      charges\n",
            "528    46    male  39.425         1     no  northeast   8342.90875\n",
            "1291   19    male  34.900         0    yes  southwest  34828.65400\n",
            "849    55    male  32.775         0     no  northwest  10601.63225\n",
            "16     52  female  30.780         1     no  northeast  10797.33620\n",
            "692    20    male  32.395         1     no  northwest   2362.22905\n",
            "----------------------------------\n",
            "               age          bmi     children       charges\n",
            "count  1338.000000  1338.000000  1338.000000   1338.000000\n",
            "mean     39.207025    30.663397     1.094918  13270.422265\n",
            "std      14.049960     6.098187     1.205493  12110.011237\n",
            "min      18.000000    15.960000     0.000000   1121.873900\n",
            "25%      27.000000    26.296250     0.000000   4740.287150\n",
            "50%      39.000000    30.400000     1.000000   9382.033000\n",
            "75%      51.000000    34.693750     2.000000  16639.912515\n",
            "max      64.000000    53.130000     5.000000  63770.428010\n",
            "----------------------------------\n",
            "la tabla tiene 1338 filas y 7 columnas\n",
            "----------------------------------\n",
            "<class 'pandas.core.frame.DataFrame'>\n",
            "RangeIndex: 1338 entries, 0 to 1337\n",
            "Data columns (total 7 columns):\n",
            " #   Column    Non-Null Count  Dtype  \n",
            "---  ------    --------------  -----  \n",
            " 0   age       1338 non-null   int64  \n",
            " 1   sex       1338 non-null   object \n",
            " 2   bmi       1338 non-null   float64\n",
            " 3   children  1338 non-null   int64  \n",
            " 4   smoker    1338 non-null   object \n",
            " 5   region    1338 non-null   object \n",
            " 6   charges   1338 non-null   float64\n",
            "dtypes: float64(2), int64(2), object(3)\n",
            "memory usage: 73.3+ KB\n",
            "None\n",
            "----------------------------------\n",
            "        age    sex    bmi  children  smoker  region  charges\n",
            "0     False  False  False     False   False   False    False\n",
            "1     False  False  False     False   False   False    False\n",
            "2     False  False  False     False   False   False    False\n",
            "3     False  False  False     False   False   False    False\n",
            "4     False  False  False     False   False   False    False\n",
            "...     ...    ...    ...       ...     ...     ...      ...\n",
            "1333  False  False  False     False   False   False    False\n",
            "1334  False  False  False     False   False   False    False\n",
            "1335  False  False  False     False   False   False    False\n",
            "1336  False  False  False     False   False   False    False\n",
            "1337  False  False  False     False   False   False    False\n",
            "\n",
            "[1338 rows x 7 columns]\n",
            "----------------------------------\n"
          ]
        }
      ]
    },
    {
      "cell_type": "code",
      "source": [],
      "metadata": {
        "id": "VRJH0iWQI5P6"
      },
      "execution_count": null,
      "outputs": []
    },
    {
      "cell_type": "code",
      "source": [],
      "metadata": {
        "id": "iy0anJ7FI5e5"
      },
      "execution_count": null,
      "outputs": []
    },
    {
      "cell_type": "markdown",
      "source": [
        "Vamos a hacer una comparación con Polars"
      ],
      "metadata": {
        "id": "aJQYsbXl9MvH"
      }
    },
    {
      "cell_type": "code",
      "source": [
        "import polars as pl\n",
        "data_pl = pl.read_csv('insurance.csv')\n",
        "print(data_pl.head())\n",
        "\n",
        "data_pl.describe()"
      ],
      "metadata": {
        "colab": {
          "base_uri": "https://localhost:8080/",
          "height": 591
        },
        "id": "fPwNfRx89PxE",
        "outputId": "0075411d-7293-4a15-8242-5db8c5d37a87"
      },
      "execution_count": 27,
      "outputs": [
        {
          "output_type": "stream",
          "name": "stdout",
          "text": [
            "shape: (5, 7)\n",
            "┌─────┬────────┬────────┬──────────┬────────┬───────────┬─────────────┐\n",
            "│ age ┆ sex    ┆ bmi    ┆ children ┆ smoker ┆ region    ┆ charges     │\n",
            "│ --- ┆ ---    ┆ ---    ┆ ---      ┆ ---    ┆ ---       ┆ ---         │\n",
            "│ i64 ┆ str    ┆ f64    ┆ i64      ┆ str    ┆ str       ┆ f64         │\n",
            "╞═════╪════════╪════════╪══════════╪════════╪═══════════╪═════════════╡\n",
            "│ 19  ┆ female ┆ 27.9   ┆ 0        ┆ yes    ┆ southwest ┆ 16884.924   │\n",
            "│ 18  ┆ male   ┆ 33.77  ┆ 1        ┆ no     ┆ southeast ┆ 1725.5523   │\n",
            "│ 28  ┆ male   ┆ 33.0   ┆ 3        ┆ no     ┆ southeast ┆ 4449.462    │\n",
            "│ 33  ┆ male   ┆ 22.705 ┆ 0        ┆ no     ┆ northwest ┆ 21984.47061 │\n",
            "│ 32  ┆ male   ┆ 28.88  ┆ 0        ┆ no     ┆ northwest ┆ 3866.8552   │\n",
            "└─────┴────────┴────────┴──────────┴────────┴───────────┴─────────────┘\n"
          ]
        },
        {
          "output_type": "execute_result",
          "data": {
            "text/plain": [
              "shape: (9, 8)\n",
              "┌────────────┬───────────┬────────┬───────────┬──────────┬────────┬───────────┬──────────────┐\n",
              "│ statistic  ┆ age       ┆ sex    ┆ bmi       ┆ children ┆ smoker ┆ region    ┆ charges      │\n",
              "│ ---        ┆ ---       ┆ ---    ┆ ---       ┆ ---      ┆ ---    ┆ ---       ┆ ---          │\n",
              "│ str        ┆ f64       ┆ str    ┆ f64       ┆ f64      ┆ str    ┆ str       ┆ f64          │\n",
              "╞════════════╪═══════════╪════════╪═══════════╪══════════╪════════╪═══════════╪══════════════╡\n",
              "│ count      ┆ 1338.0    ┆ 1338   ┆ 1338.0    ┆ 1338.0   ┆ 1338   ┆ 1338      ┆ 1338.0       │\n",
              "│ null_count ┆ 0.0       ┆ 0      ┆ 0.0       ┆ 0.0      ┆ 0      ┆ 0         ┆ 0.0          │\n",
              "│ mean       ┆ 39.207025 ┆ null   ┆ 30.663397 ┆ 1.094918 ┆ null   ┆ null      ┆ 13270.422265 │\n",
              "│ std        ┆ 14.04996  ┆ null   ┆ 6.098187  ┆ 1.205493 ┆ null   ┆ null      ┆ 12110.011237 │\n",
              "│ min        ┆ 18.0      ┆ female ┆ 15.96     ┆ 0.0      ┆ no     ┆ northeast ┆ 1121.8739    │\n",
              "│ 25%        ┆ 27.0      ┆ null   ┆ 26.29     ┆ 0.0      ┆ null   ┆ null      ┆ 4738.2682    │\n",
              "│ 50%        ┆ 39.0      ┆ null   ┆ 30.4      ┆ 1.0      ┆ null   ┆ null      ┆ 9386.1613    │\n",
              "│ 75%        ┆ 51.0      ┆ null   ┆ 34.7      ┆ 2.0      ┆ null   ┆ null      ┆ 16657.71745  │\n",
              "│ max        ┆ 64.0      ┆ male   ┆ 53.13     ┆ 5.0      ┆ yes    ┆ southwest ┆ 63770.42801  │\n",
              "└────────────┴───────────┴────────┴───────────┴──────────┴────────┴───────────┴──────────────┘"
            ],
            "text/html": [
              "<div><style>\n",
              ".dataframe > thead > tr,\n",
              ".dataframe > tbody > tr {\n",
              "  text-align: right;\n",
              "  white-space: pre-wrap;\n",
              "}\n",
              "</style>\n",
              "<small>shape: (9, 8)</small><table border=\"1\" class=\"dataframe\"><thead><tr><th>statistic</th><th>age</th><th>sex</th><th>bmi</th><th>children</th><th>smoker</th><th>region</th><th>charges</th></tr><tr><td>str</td><td>f64</td><td>str</td><td>f64</td><td>f64</td><td>str</td><td>str</td><td>f64</td></tr></thead><tbody><tr><td>&quot;count&quot;</td><td>1338.0</td><td>&quot;1338&quot;</td><td>1338.0</td><td>1338.0</td><td>&quot;1338&quot;</td><td>&quot;1338&quot;</td><td>1338.0</td></tr><tr><td>&quot;null_count&quot;</td><td>0.0</td><td>&quot;0&quot;</td><td>0.0</td><td>0.0</td><td>&quot;0&quot;</td><td>&quot;0&quot;</td><td>0.0</td></tr><tr><td>&quot;mean&quot;</td><td>39.207025</td><td>null</td><td>30.663397</td><td>1.094918</td><td>null</td><td>null</td><td>13270.422265</td></tr><tr><td>&quot;std&quot;</td><td>14.04996</td><td>null</td><td>6.098187</td><td>1.205493</td><td>null</td><td>null</td><td>12110.011237</td></tr><tr><td>&quot;min&quot;</td><td>18.0</td><td>&quot;female&quot;</td><td>15.96</td><td>0.0</td><td>&quot;no&quot;</td><td>&quot;northeast&quot;</td><td>1121.8739</td></tr><tr><td>&quot;25%&quot;</td><td>27.0</td><td>null</td><td>26.29</td><td>0.0</td><td>null</td><td>null</td><td>4738.2682</td></tr><tr><td>&quot;50%&quot;</td><td>39.0</td><td>null</td><td>30.4</td><td>1.0</td><td>null</td><td>null</td><td>9386.1613</td></tr><tr><td>&quot;75%&quot;</td><td>51.0</td><td>null</td><td>34.7</td><td>2.0</td><td>null</td><td>null</td><td>16657.71745</td></tr><tr><td>&quot;max&quot;</td><td>64.0</td><td>&quot;male&quot;</td><td>53.13</td><td>5.0</td><td>&quot;yes&quot;</td><td>&quot;southwest&quot;</td><td>63770.42801</td></tr></tbody></table></div>"
            ]
          },
          "metadata": {},
          "execution_count": 27
        }
      ]
    }
  ]
}